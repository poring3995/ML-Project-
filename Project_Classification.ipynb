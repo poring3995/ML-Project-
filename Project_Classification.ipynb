{
  "nbformat": 4,
  "nbformat_minor": 0,
  "metadata": {
    "colab": {
      "provenance": [],
      "include_colab_link": true
    },
    "kernelspec": {
      "name": "python3",
      "display_name": "Python 3"
    },
    "language_info": {
      "name": "python"
    }
  },
  "cells": [
    {
      "cell_type": "markdown",
      "metadata": {
        "id": "view-in-github",
        "colab_type": "text"
      },
      "source": [
        "<a href=\"https://colab.research.google.com/github/poring3995/ML-Project-/blob/ML-Project/Project_Classification.ipynb\" target=\"_parent\"><img src=\"https://colab.research.google.com/assets/colab-badge.svg\" alt=\"Open In Colab\"/></a>"
      ]
    },
    {
      "cell_type": "markdown",
      "source": [
        "#Step 1 : Install pyspark to run algoirthm\n"
      ],
      "metadata": {
        "id": "b2wTaSfxsRBN"
      }
    },
    {
      "cell_type": "code",
      "execution_count": null,
      "metadata": {
        "colab": {
          "base_uri": "https://localhost:8080/"
        },
        "id": "a3hEawZYRgXr",
        "outputId": "c2e3bc13-0cde-4741-905b-4ea85fb32642"
      },
      "outputs": [
        {
          "output_type": "stream",
          "name": "stdout",
          "text": [
            "Looking in indexes: https://pypi.org/simple, https://us-python.pkg.dev/colab-wheels/public/simple/\n",
            "Collecting pyspark\n",
            "  Downloading pyspark-3.4.0.tar.gz (310.8 MB)\n",
            "\u001b[2K     \u001b[90m━━━━━━━━━━━━━━━━━━━━━━━━━━━━━━━━━━━━━━━\u001b[0m \u001b[32m310.8/310.8 MB\u001b[0m \u001b[31m4.2 MB/s\u001b[0m eta \u001b[36m0:00:00\u001b[0m\n",
            "\u001b[?25h  Preparing metadata (setup.py) ... \u001b[?25l\u001b[?25hdone\n",
            "Requirement already satisfied: py4j==0.10.9.7 in /usr/local/lib/python3.10/dist-packages (from pyspark) (0.10.9.7)\n",
            "Building wheels for collected packages: pyspark\n",
            "  Building wheel for pyspark (setup.py) ... \u001b[?25l\u001b[?25hdone\n",
            "  Created wheel for pyspark: filename=pyspark-3.4.0-py2.py3-none-any.whl size=311317130 sha256=47a2779febaf3a66d23e112c02c1ead3b5c8d8090945e5bad7a8ebb807307eac\n",
            "  Stored in directory: /root/.cache/pip/wheels/7b/1b/4b/3363a1d04368e7ff0d408e57ff57966fcdf00583774e761327\n",
            "Successfully built pyspark\n",
            "Installing collected packages: pyspark\n",
            "Successfully installed pyspark-3.4.0\n"
          ]
        }
      ],
      "source": [
        "!pip install pyspark"
      ]
    },
    {
      "cell_type": "markdown",
      "source": [
        "# Step 2: Create spark session"
      ],
      "metadata": {
        "id": "Vk_GLKthsnJD"
      }
    },
    {
      "cell_type": "code",
      "source": [
        "from pyspark import SparkContext\n",
        "from pyspark.sql.functions import *\n",
        "from pyspark.sql import SparkSession\n",
        "import pandas as pd\n",
        "import matplotlib.pyplot as plt\n",
        "import seaborn as sns\n",
        "from pyspark.ml.feature import StringIndexer\n",
        "from pyspark.sql import SQLContext, SparkSession\n",
        "from pyspark.ml.feature import MinMaxScaler, VectorAssembler\n",
        "from pyspark.ml.linalg import DenseMatrix, Vectors\n",
        "\n",
        "\n",
        "spark = SparkSession.builder \\\n",
        "    .master(\"local[*]\") \\\n",
        "    .appName(\"Classification project\") \\\n",
        "    .config(\"spark.some.config.option\", \"some-value\") \\\n",
        "    .getOrCreate()"
      ],
      "metadata": {
        "id": "JaCRJR0vRiXw"
      },
      "execution_count": null,
      "outputs": []
    },
    {
      "cell_type": "markdown",
      "source": [
        "#step 3 :Load the dataset from the google colab space\n",
        "# in this case we used the \"Stellar Classification Dataset - SDSS17\"\n",
        "# for this Project, URL: https://www.kaggle.com/datasets/fedesoriano/stellar-classification-dataset-sdss17\n",
        "\n",
        "# The data consists of 100,000 observations of space taken by the SDSS (Sloan Digital Sky Survey). Every observation is described by 17 feature columns\n",
        "\n",
        "# our target class :\n",
        "# \"class\" column which identifies it to be either a star, galaxy or quasar (in the URL dataset they will not show the class column but in the real dataset it had this column )\n",
        "\n",
        "\n",
        "# Since the dataset has alreaady have ther schema correctly and applicable with our algorithm, so we will set the inference schema to true for using the default schema from the datasource\n",
        "# The header is already set it as well and we need to used this header as well for further processing, so for this option for the dataframe we will also set the header to true"
      ],
      "metadata": {
        "id": "B7_Kp2ZusqW_"
      }
    },
    {
      "cell_type": "code",
      "source": [
        "df = spark.read.csv('/content/star_classification.csv', header='true', inferSchema='true')"
      ],
      "metadata": {
        "id": "k_yNko-RRiVY"
      },
      "execution_count": null,
      "outputs": []
    },
    {
      "cell_type": "markdown",
      "source": [
        "# step 4 : checking schema (also use this schema with the other process explanation )"
      ],
      "metadata": {
        "id": "fUBntOfAuVpn"
      }
    },
    {
      "cell_type": "code",
      "source": [
        "df.printSchema()"
      ],
      "metadata": {
        "colab": {
          "base_uri": "https://localhost:8080/"
        },
        "id": "flrerW1HRiUE",
        "outputId": "882af393-e482-4432-8bfd-4b86410665d0"
      },
      "execution_count": null,
      "outputs": [
        {
          "output_type": "stream",
          "name": "stdout",
          "text": [
            "root\n",
            " |-- obj_ID: double (nullable = true)\n",
            " |-- alpha: double (nullable = true)\n",
            " |-- delta: double (nullable = true)\n",
            " |-- u: double (nullable = true)\n",
            " |-- g: double (nullable = true)\n",
            " |-- r: double (nullable = true)\n",
            " |-- i: double (nullable = true)\n",
            " |-- z: double (nullable = true)\n",
            " |-- run_ID: integer (nullable = true)\n",
            " |-- rerun_ID: integer (nullable = true)\n",
            " |-- cam_col: integer (nullable = true)\n",
            " |-- field_ID: integer (nullable = true)\n",
            " |-- spec_obj_ID: double (nullable = true)\n",
            " |-- class: string (nullable = true)\n",
            " |-- redshift: double (nullable = true)\n",
            " |-- plate: integer (nullable = true)\n",
            " |-- MJD: integer (nullable = true)\n",
            " |-- fiber_ID: integer (nullable = true)\n",
            "\n"
          ]
        }
      ]
    },
    {
      "cell_type": "markdown",
      "source": [
        "# step 5 : filter out some data columns that is not useful for our training\n",
        "\n",
        "# drop :\n",
        "\n",
        "#**all of the ID column and date(MJD column)** since it was not the numerical value that we can use for training (cam_cal, and plate is also the ID column but not just named as ID like the ther columns)\n",
        "\n",
        "#**Class Column** because we will use it to be label column not features"
      ],
      "metadata": {
        "id": "RKc5YCZb6Xdn"
      }
    },
    {
      "cell_type": "code",
      "source": [
        "df = df.drop('rerun_ID', 'spec_obj_ID','obj_ID', 'run_ID', 'field_ID','fiber_ID', 'cam_col', 'plate','MjD' )"
      ],
      "metadata": {
        "id": "ti2EsRzc6ls0"
      },
      "execution_count": null,
      "outputs": []
    },
    {
      "cell_type": "code",
      "source": [
        "df_noclass = df.drop('class')\n",
        "\n",
        "df_noclass.printSchema()"
      ],
      "metadata": {
        "colab": {
          "base_uri": "https://localhost:8080/"
        },
        "id": "POE4cCM86yHu",
        "outputId": "931cad8e-d05e-46a6-cf12-2142ca0f8bd2"
      },
      "execution_count": null,
      "outputs": [
        {
          "output_type": "stream",
          "name": "stdout",
          "text": [
            "root\n",
            " |-- alpha: double (nullable = true)\n",
            " |-- delta: double (nullable = true)\n",
            " |-- u: double (nullable = true)\n",
            " |-- g: double (nullable = true)\n",
            " |-- r: double (nullable = true)\n",
            " |-- i: double (nullable = true)\n",
            " |-- z: double (nullable = true)\n",
            " |-- redshift: double (nullable = true)\n",
            "\n"
          ]
        }
      ]
    },
    {
      "cell_type": "markdown",
      "source": [
        "# step 6: Checking the missing value (either NAN or NULL)\n"
      ],
      "metadata": {
        "id": "y84myLH008_S"
      }
    },
    {
      "cell_type": "code",
      "source": [
        "from pyspark.sql.functions import isnan, when, count, col, isnull\n",
        "missing = df.select([count(when(isnull(c), c)).alias(c) for c in df.columns]).show()\n",
        "missing = df.select([count(when(isnan(c), c)).alias(c) for c in df.columns]).show()"
      ],
      "metadata": {
        "colab": {
          "base_uri": "https://localhost:8080/"
        },
        "id": "5RGIaYhDRh39",
        "outputId": "36eb0e29-e2e9-41d6-b8bd-ef3781788e90"
      },
      "execution_count": null,
      "outputs": [
        {
          "output_type": "stream",
          "name": "stdout",
          "text": [
            "+-----+-----+---+---+---+---+---+-----+--------+\n",
            "|alpha|delta|  u|  g|  r|  i|  z|class|redshift|\n",
            "+-----+-----+---+---+---+---+---+-----+--------+\n",
            "|    0|    0|  0|  0|  0|  0|  0|    0|       0|\n",
            "+-----+-----+---+---+---+---+---+-----+--------+\n",
            "\n",
            "+-----+-----+---+---+---+---+---+-----+--------+\n",
            "|alpha|delta|  u|  g|  r|  i|  z|class|redshift|\n",
            "+-----+-----+---+---+---+---+---+-----+--------+\n",
            "|    0|    0|  0|  0|  0|  0|  0|    0|       0|\n",
            "+-----+-----+---+---+---+---+---+-----+--------+\n",
            "\n"
          ]
        }
      ]
    },
    {
      "cell_type": "markdown",
      "source": [
        "# step 7 : transform all left colum into the features"
      ],
      "metadata": {
        "id": "KIbMGrkR3ZWX"
      }
    },
    {
      "cell_type": "code",
      "source": [
        "features = df_noclass.schema.names\n",
        "\n",
        "vectorassembler = VectorAssembler(inputCols = features, outputCol= 'assemblerfeatures')\n",
        "\n",
        "output_dataset = vectorassembler.transform(df_noclass)\n",
        "\n",
        "output_dataset.show()"
      ],
      "metadata": {
        "colab": {
          "base_uri": "https://localhost:8080/"
        },
        "id": "KvUebphkZa6P",
        "outputId": "aece2b69-1ccf-48f1-ccbd-a420ae87dbd7"
      },
      "execution_count": null,
      "outputs": [
        {
          "output_type": "stream",
          "name": "stdout",
          "text": [
            "+----------------+------------------+--------+--------+--------+--------+--------+------------+--------------------+\n",
            "|           alpha|             delta|       u|       g|       r|       i|       z|    redshift|   assemblerfeatures|\n",
            "+----------------+------------------+--------+--------+--------+--------+--------+------------+--------------------+\n",
            "|  135.6891066036|  32.4946318397087|23.87882| 22.2753|20.39501|19.16573|18.79371|   0.6347936|[135.6891066036,3...|\n",
            "|144.826100550256|  31.2741848944939|24.77759|22.83188|22.58444|21.16812|21.61427|    0.779136|[144.826100550256...|\n",
            "|142.188789562506|  35.5824441819976|25.26307|22.66389|20.60976|19.34857|18.94827|   0.6441945|[142.188789562506...|\n",
            "|338.741037753146|-0.402827574587482|22.13682|23.77656|21.61162|20.50454| 19.2501|   0.9323456|[338.741037753146...|\n",
            "|345.282593210935|  21.1838656010284|19.43718|17.58028|16.49747|15.97711|15.54461|   0.1161227|[345.282593210935...|\n",
            "|340.995120509191|  20.5894762801019|23.48827|23.33776|21.32195|20.25615|19.54544|    1.424659|[340.995120509191...|\n",
            "|23.2349264301638|  11.4181876197835|21.46973|21.17624|20.92829|20.60826|20.42573|   0.5864546|[23.2349264301638...|\n",
            "|5.43317603738404|  12.0651859913473|22.24979|22.02172|20.34126|19.48794|18.84999|    0.477009|[5.43317603738404...|\n",
            "|200.290475389797|   47.199402322911|24.40286|22.35669|20.61032| 19.4649|18.95852|    0.660012|[200.290475389797...|\n",
            "|39.1496905996484|  28.1028416109607|21.74669|20.03493|19.17553|18.81823|18.65422|-7.895373E-6|[39.1496905996484...|\n",
            "|328.092076173419|  18.2203104791579|25.77163|22.52042|20.63884|19.78071|19.05765|   0.4595958|[328.092076173419...|\n",
            "|243.986637469699|  25.7382804319961|23.76761|23.79969|20.98318|19.80745|19.45579|   0.5914091|[243.986637469699...|\n",
            "|345.801874402853|  32.6728678500872|23.17274|20.14496|19.41948|19.22034|18.89359| 7.182029E-5|[345.801874402853...|\n",
            "|331.502029984917|  10.0358020468494| 20.8294|18.75091|17.51118|17.01631|16.62772|   0.1521936|[331.502029984917...|\n",
            "|344.984770271278|-0.352615781151814|23.20911|22.79291|22.08589|21.86282| 21.8512|   0.8181597|[344.984770271278...|\n",
            "|244.824523050208|  25.1545639915034| 24.8868|22.13311|20.44728|19.49171| 18.9747|   0.4849288|[244.824523050208...|\n",
            "|353.201522444633|  3.08079593630972| 24.5489|21.44267|20.95315| 20.7936|20.48442| -4.28576E-4|[353.201522444633...|\n",
            "|  1.494388639357|  3.29174632998873|20.38562|20.40514|20.29996|20.05918|19.89044|    2.031528|[1.494388639357,3...|\n",
            "|14.3831352206597|  3.21432619593864|21.82154| 20.5573|19.94918|19.76057|19.55514|-4.402762E-4|[14.3831352206597...|\n",
            "|167.131668785257|  67.3399356293198|20.48292|18.67807| 17.6168|17.11936|16.73351|   0.1115879|[167.131668785257...|\n",
            "+----------------+------------------+--------+--------+--------+--------+--------+------------+--------------------+\n",
            "only showing top 20 rows\n",
            "\n"
          ]
        }
      ]
    },
    {
      "cell_type": "markdown",
      "source": [
        "# step 8 : convert the class column to index and vector\n",
        "\n",
        "# since the data kin class column are in type of string , so in order to use it with pipeline we have to transform these data into the vector form  (which need to convert to convert to index first)"
      ],
      "metadata": {
        "id": "awDff4wV-O6K"
      }
    },
    {
      "cell_type": "code",
      "source": [
        "from pyspark.ml import Pipeline\n",
        "from pyspark.ml.feature import OneHotEncoder, StringIndexer\n",
        "\n",
        "indexer = StringIndexer(inputCols = ['class'], outputCols = ['classInd']).setHandleInvalid(\"skip\")\n",
        "onehot = OneHotEncoder(inputCols = ['classInd'], outputCols = ['classVec'])\n",
        "stages = [indexer, onehot]\n",
        "pipeline = Pipeline(stages=stages)\n",
        "df_fea = pipeline.fit(df).transform(df)"
      ],
      "metadata": {
        "id": "yZojwkvua834"
      },
      "execution_count": null,
      "outputs": []
    },
    {
      "cell_type": "code",
      "source": [
        "df_fea.show(1)"
      ],
      "metadata": {
        "colab": {
          "base_uri": "https://localhost:8080/"
        },
        "id": "SHowrMKZa80z",
        "outputId": "b9b16b1c-b0ec-473d-9ae9-1f74da8fc36c"
      },
      "execution_count": null,
      "outputs": [
        {
          "output_type": "stream",
          "name": "stdout",
          "text": [
            "+--------------+----------------+--------+-------+--------+--------+--------+------+---------+--------+-------------+\n",
            "|         alpha|           delta|       u|      g|       r|       i|       z| class| redshift|classInd|     classVec|\n",
            "+--------------+----------------+--------+-------+--------+--------+--------+------+---------+--------+-------------+\n",
            "|135.6891066036|32.4946318397087|23.87882|22.2753|20.39501|19.16573|18.79371|GALAXY|0.6347936|     0.0|(2,[0],[1.0])|\n",
            "+--------------+----------------+--------+-------+--------+--------+--------+------+---------+--------+-------------+\n",
            "only showing top 1 row\n",
            "\n"
          ]
        }
      ]
    },
    {
      "cell_type": "code",
      "source": [
        "df=df_fea"
      ],
      "metadata": {
        "id": "43EPhGQna8zL"
      },
      "execution_count": null,
      "outputs": []
    },
    {
      "cell_type": "markdown",
      "source": [
        "# step 9 : divided the data into the training and testing data"
      ],
      "metadata": {
        "id": "TGcxHu8p-2kp"
      }
    },
    {
      "cell_type": "code",
      "source": [
        "(trainingData, testData) = df.randomSplit([0.7, 0.3],seed=123)"
      ],
      "metadata": {
        "id": "WGZ3NJQpa8t7"
      },
      "execution_count": null,
      "outputs": []
    },
    {
      "cell_type": "code",
      "source": [
        "trainingData.count(), testData.count()"
      ],
      "metadata": {
        "colab": {
          "base_uri": "https://localhost:8080/"
        },
        "id": "pxW4QTIba8rF",
        "outputId": "854098ce-f5ef-4988-e560-efb4738eaac9"
      },
      "execution_count": null,
      "outputs": [
        {
          "output_type": "execute_result",
          "data": {
            "text/plain": [
              "(39352, 16970)"
            ]
          },
          "metadata": {},
          "execution_count": 13
        }
      ]
    },
    {
      "cell_type": "markdown",
      "source": [
        "# step 10 : scaling the features data\n",
        "\n",
        "# since the data is in very large amount, we need to used scaling to normalize the range of independent variables or features of data, makes the training more faster, effective and accurate"
      ],
      "metadata": {
        "id": "lls1BzyC_Egy"
      }
    },
    {
      "cell_type": "code",
      "source": [
        "from pyspark.ml.feature import VectorAssembler, MinMaxScaler\n",
        "\n",
        "features_columns = ['alpha','delta','u','g','r','i','z','redshift']\n",
        "assembler = VectorAssembler(inputCols=features_columns, outputCol=\"features\")\n",
        "scaler = MinMaxScaler(inputCol=\"features\", outputCol=\"scaledFeatures\", min=0.0, max=1.0)\n",
        "pipeline_preprocessing = Pipeline(stages=[assembler,scaler])\n",
        "model_preprocessing = pipeline_preprocessing.fit(trainingData)\n",
        "trainingData_scal = model_preprocessing.transform(trainingData)\n",
        "testData_scal = model_preprocessing.transform(testData)"
      ],
      "metadata": {
        "id": "WxuoFtbfa8k0"
      },
      "execution_count": null,
      "outputs": []
    },
    {
      "cell_type": "code",
      "source": [
        "trainingData_scal.show(5)"
      ],
      "metadata": {
        "colab": {
          "base_uri": "https://localhost:8080/"
        },
        "id": "ga269KGja8ih",
        "outputId": "c7d57777-9714-4808-adbd-08a0185b5ab5"
      },
      "execution_count": null,
      "outputs": [
        {
          "output_type": "stream",
          "name": "stdout",
          "text": [
            "+-------------------+----------------+--------+--------+--------+--------+--------+------+---------+--------+-------------+--------------------+--------------------+\n",
            "|              alpha|           delta|       u|       g|       r|       i|       z| class| redshift|classInd|     classVec|            features|      scaledFeatures|\n",
            "+-------------------+----------------+--------+--------+--------+--------+--------+------+---------+--------+-------------+--------------------+--------------------+\n",
            "|0.00552782792397011|21.7118518788006|21.90328|21.19124|  19.951|19.21397| 18.7945|GALAXY|0.5058863|     0.0|(2,[0],[1.0])|[0.00552782792397...|[0.0,0.3861782060...|\n",
            "| 0.0133366618319997|1.50496725632891|20.67661|20.51553|20.51491|20.34745|20.33714|   QSO| 1.695679|     2.0|    (2,[],[])|[0.01333666183199...|[2.16915615590496...|\n",
            "| 0.0242578849684492|  22.28844884659| 21.5686|21.56959|21.04366|21.11622|20.98896|   QSO| 1.145465|     2.0|    (2,[],[])|[0.02425788496844...|[5.20287907477528...|\n",
            "| 0.0257159157289379|25.0274051418279|21.22173|21.27688|21.09566|20.99008|20.97017|   QSO|  1.44564|     2.0|    (2,[],[])|[0.02571591572893...|[5.60789427126458...|\n",
            "| 0.0289379828686833|18.0423011308999|20.90189|21.28163|20.87665|20.73679|20.68778|   QSO| 1.206886|     2.0|    (2,[],[])|[0.02893798286868...|[6.50292762108792...|\n",
            "+-------------------+----------------+--------+--------+--------+--------+--------+------+---------+--------+-------------+--------------------+--------------------+\n",
            "only showing top 5 rows\n",
            "\n"
          ]
        }
      ]
    },
    {
      "cell_type": "markdown",
      "source": [
        "# Step 11 : Algorithm selection\n",
        "\n",
        "# I choose the RandomTree Algoithms, since as I researched this algorithm can handle large datasets efficiently (scalability) which is very suitable for my dataset that quite in the large size, also provide a higher accuracy when compared to other algorithms such as decision tree algorithms\n",
        "\n"
      ],
      "metadata": {
        "id": "bB_SBIMTFxFe"
      }
    },
    {
      "cell_type": "code",
      "source": [
        "from pyspark.ml.classification import RandomForestClassifier\n",
        "from pyspark.ml.evaluation import MulticlassClassificationEvaluator"
      ],
      "metadata": {
        "id": "f_SFU2osclf4"
      },
      "execution_count": null,
      "outputs": []
    },
    {
      "cell_type": "markdown",
      "source": [
        "# step 12 : training with varies amount of tree to find the best number of tree in random forest first"
      ],
      "metadata": {
        "id": "Ue0uIUKEF6Wm"
      }
    },
    {
      "cell_type": "code",
      "source": [
        "accuracy = list()\n",
        "for i in range(10,110,10):\n",
        "  rf = RandomForestClassifier(labelCol=\"classInd\", featuresCol=\"scaledFeatures\", numTrees=i)\n",
        "  model_rf = rf.fit(trainingData_scal)\n",
        "  predictions = model_rf.transform(testData_scal)\n",
        "  acc=MulticlassClassificationEvaluator(predictionCol='prediction', labelCol='classInd', metricName='accuracy')\n",
        "  accuracy.append(acc.evaluate(predictions))"
      ],
      "metadata": {
        "id": "H2DIzoDXcnFQ"
      },
      "execution_count": null,
      "outputs": []
    },
    {
      "cell_type": "code",
      "source": [
        "labels=['10','20','30','40','50','60','70','80','90','100']\n",
        "\n",
        "\n",
        "plt.rcParams['axes.facecolor'] = '#363435'\n",
        "plt.figure(facecolor='#363435', figsize=(10,7))\n",
        "plt.plot(labels,accuracy, color='green')\n",
        "plt.xlabel('Number of trees', color='green', size= 14)\n",
        "plt.ylabel('Accuracy', color='green', size=14)\n",
        "plt.xticks(color='white', size=12)\n",
        "plt.yticks(color='white', size=12)\n",
        "plt.grid(color='#808080')\n",
        "\n",
        "\n",
        "plt.plot()"
      ],
      "metadata": {
        "id": "VSD4hbO-c5V8",
        "colab": {
          "base_uri": "https://localhost:8080/",
          "height": 645
        },
        "outputId": "25f3722f-789d-4dbf-a26e-f2926896260e"
      },
      "execution_count": null,
      "outputs": [
        {
          "output_type": "execute_result",
          "data": {
            "text/plain": [
              "[]"
            ]
          },
          "metadata": {},
          "execution_count": 28
        },
        {
          "output_type": "display_data",
          "data": {
            "text/plain": [
              "<Figure size 1000x700 with 1 Axes>"
            ],
            "image/png": "[encoded data removed]"
          },
          "metadata": {}
        }
      ]
    },
    {
      "cell_type": "markdown",
      "source": [
        "# step 13 : check the final result after applies to the best number of tree (which is 30)"
      ],
      "metadata": {
        "id": "TP5K7y0QGVde"
      }
    },
    {
      "cell_type": "code",
      "source": [
        "rf = RandomForestClassifier(labelCol=\"classInd\", featuresCol=\"scaledFeatures\", numTrees=30)\n",
        "model_rf = rf.fit(trainingData_scal)\n",
        "predictions = model_rf.transform(testData_scal)\n",
        "\n",
        "accuracy_f1 = MulticlassClassificationEvaluator(predictionCol='prediction', labelCol='classInd', metricName='accuracy')\n",
        "print(\"RandomForest with 90 number of tree\", \"accuracy : \", accuracy_f1.evaluate(predictions))"
      ],
      "metadata": {
        "id": "XQjGBpFUc73w",
        "colab": {
          "base_uri": "https://localhost:8080/"
        },
        "outputId": "68c913bd-fdfa-4d63-e8f3-bf8bcc987907"
      },
      "execution_count": null,
      "outputs": [
        {
          "output_type": "stream",
          "name": "stdout",
          "text": [
            "RandomForest with 90 number of tree accuracy :  0.9629345904537419\n"
          ]
        }
      ]
    },
    {
      "cell_type": "markdown",
      "source": [
        "# Data visualization : use the confusion matrix to show the possibility of the result that could goes wrong when compared to the true value"
      ],
      "metadata": {
        "id": "qgA2cyxVGDcI"
      }
    },
    {
      "cell_type": "code",
      "source": [
        "from pyspark.mllib.evaluation import MulticlassMetrics\n",
        "import numpy as np\n",
        "\n",
        "predictionAndLabels = predictions.select(\"prediction\", \"classInd\").rdd.map(lambda row: (row.prediction, float(row.classInd)))\n",
        "metrics = MulticlassMetrics(predictionAndLabels)\n",
        "cfmx = metrics.confusionMatrix()\n",
        "cfarr = cfmx.toArray()\n",
        "confusionmatrix = pd.DataFrame(cfarr)\n",
        "\n",
        "ax= plt.subplot()\n",
        "sns.set(rc={'figure.figsize':(7,5), 'axes.facecolor':'#363435', 'figure.facecolor':'#363435','axes.labelcolor': 'white',\n",
        "            'xtick.color': 'white', 'ytick.color': 'white'})\n",
        "sns.heatmap(confusionmatrix/np.sum(confusionmatrix), annot=True,cmap='crest')\n",
        "ax.set_xlabel(\"Predicted labels\");\n",
        "ax.set_ylabel(\"True labels\");\n",
        "ax.set_title(\"Confusion Matrix\",color='white');\n",
        "ax.xaxis.set_ticklabels([\"GALAXY\", \"STAR\", \"QUASAR\"])\n",
        "ax.yaxis.set_ticklabels([\"GALAXY\", \"STAR\", \"QUASAR\"])\n",
        "plt.show()"
      ],
      "metadata": {
        "colab": {
          "base_uri": "https://localhost:8080/",
          "height": 531
        },
        "id": "4OPcc6-Ic_Bi",
        "outputId": "9263e556-83d1-41ba-e5de-da153d045e82"
      },
      "execution_count": null,
      "outputs": [
        {
          "output_type": "stream",
          "name": "stderr",
          "text": [
            "/usr/local/lib/python3.10/dist-packages/pyspark/sql/context.py:157: FutureWarning: Deprecated in 3.0.0. Use SparkSession.builder.getOrCreate() instead.\n",
            "  warnings.warn(\n"
          ]
        },
        {
          "output_type": "display_data",
          "data": {
            "text/plain": [
              "<Figure size 700x500 with 2 Axes>"
            ],
            "image/png": "[encoded data removed]"
          },
          "metadata": {}
        }
      ]
    }
  ]
}