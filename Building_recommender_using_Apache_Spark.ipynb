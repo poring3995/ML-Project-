{
  "nbformat": 4,
  "nbformat_minor": 0,
  "metadata": {
    "colab": {
      "provenance": [],
      "include_colab_link": true
    },
    "kernelspec": {
      "name": "python3",
      "display_name": "Python 3"
    },
    "language_info": {
      "name": "python"
    }
  },
  "cells": [
    {
      "cell_type": "markdown",
      "metadata": {
        "id": "view-in-github",
        "colab_type": "text"
      },
      "source": [
        "<a href=\"https://colab.research.google.com/github/poring3995/My_Project/blob/MY_Project/Building_recommender_using_Apache_Spark.ipynb\" target=\"_parent\"><img src=\"https://colab.research.google.com/assets/colab-badge.svg\" alt=\"Open In Colab\"/></a>"
      ]
    },
    {
      "cell_type": "code",
      "source": [
        "%%capture\n",
        "!sudo apt-get update --fix-missing\n",
        "\n",
        "!apt-get install openjdk-8-jdk-headless -qq > /dev/null\n",
        "\n",
        "!wget -q https://archive.apache.org/dist/spark/spark-3.0.0/spark-3.0.0-bin-hadoop3.2.tgz\n",
        "#!wget -q https://downloads.apache.org/spark/spark-3.0.0/spark-3.0.0-bin-hadoop3.2.tgz\n",
        "\n",
        "!mv spark-3.0.0-bin-hadoop3.2.tgz sparkkk\n",
        "!tar xf sparkkk\n",
        "!pip install -q findspark\n",
        "\n",
        "\n",
        "#pip install spark\n",
        "\n",
        "\n",
        "import os\n",
        "os.environ[\"JAVA_HOME\"] = \"/usr/lib/jvm/java-8-openjdk-amd64\"\n",
        "os.environ[\"SPARK_HOME\"] = \"/content/spark-3.0.0-bin-hadoop3.2\"\n",
        "\n",
        "import findspark\n",
        "findspark.init()\n",
        "\n",
        "from pyspark.sql import SparkSession\n",
        "spark = SparkSession.builder.master(\"local[*]\").getOrCreate()\n",
        "\n",
        "from pyspark.sql import SparkSession\n",
        "spark = SparkSession \\\n",
        "    .builder \\\n",
        "    .appName('fpgrowth') \\\n",
        "    .getOrCreate()\n",
        "\n",
        "spark"
      ],
      "metadata": {
        "id": "DNB79ICp428J"
      },
      "execution_count": null,
      "outputs": []
    },
    {
      "cell_type": "code",
      "execution_count": null,
      "metadata": {
        "id": "ZLeU8mwQmeD_"
      },
      "outputs": [],
      "source": [
        "\n",
        "complete_dataset_url = 'https://files.grouplens.org/datasets/movielens/ml-latest.zip'\n",
        "small_dataset_url = 'https://files.grouplens.org/datasets/movielens/ml-latest-small.zip'"
      ]
    },
    {
      "cell_type": "code",
      "source": [
        "import os\n",
        "\n",
        "datasets_path = os.path.join('/content', 'datasets')\n",
        "\n",
        "complete_dataset_path = os.path.join(datasets_path, 'ml-latest.zip')\n",
        "small_dataset_path = os.path.join(datasets_path, 'ml-latest-small.zip')\n",
        ""
      ],
      "metadata": {
        "id": "bEkdPqJ3mtfQ"
      },
      "execution_count": null,
      "outputs": []
    },
    {
      "cell_type": "code",
      "source": [
        "\n",
        "import urllib\n",
        "import urllib.request\n",
        "\n",
        "\n",
        "small_f = urllib.request.urlretrieve(small_dataset_url, small_dataset_path)\n",
        "complete_f = urllib.request.urlretrieve(complete_dataset_url, complete_dataset_path)\n",
        "\n",
        ""
      ],
      "metadata": {
        "id": "xicVrRj_mtzm"
      },
      "execution_count": null,
      "outputs": []
    },
    {
      "cell_type": "code",
      "source": [
        "import zipfile\n",
        "\n",
        "with zipfile.ZipFile(small_dataset_path, \"r\") as z:\n",
        "    z.extractall(datasets_path)\n",
        "\n",
        "with zipfile.ZipFile(complete_dataset_path, \"r\") as z:\n",
        "    z.extractall(datasets_path)\n",
        ""
      ],
      "metadata": {
        "id": "BKlWmFNcmuLc"
      },
      "execution_count": null,
      "outputs": []
    },
    {
      "cell_type": "code",
      "source": [
        "from pyspark import SparkContext\n",
        "sc = SparkContext.getOrCreate();\n",
        "\n",
        "small_ratings_file = os.path.join(datasets_path, 'ml-latest-small', 'ratings.csv')\n",
        "\n",
        "small_ratings_raw_data = sc.textFile(small_ratings_file)\n",
        "small_ratings_raw_data_header = small_ratings_raw_data.take(1)[0]"
      ],
      "metadata": {
        "id": "4gs-ERqYmuXW"
      },
      "execution_count": null,
      "outputs": []
    },
    {
      "cell_type": "code",
      "source": [
        "small_ratings_data = small_ratings_raw_data.filter(lambda line: line!=small_ratings_raw_data_header)\\\n",
        "    .map(lambda line: line.split(\",\")).map(lambda tokens: (tokens[0],tokens[1],tokens[2])).cache()\n",
        ""
      ],
      "metadata": {
        "id": "6AchWxMmmulU"
      },
      "execution_count": null,
      "outputs": []
    },
    {
      "cell_type": "code",
      "source": [
        "small_ratings_data.take(3)"
      ],
      "metadata": {
        "colab": {
          "base_uri": "https://localhost:8080/"
        },
        "id": "NISpCyUAmu0A",
        "outputId": "7dcffb78-fa12-4398-aef4-302ff762bb6f"
      },
      "execution_count": null,
      "outputs": [
        {
          "output_type": "execute_result",
          "data": {
            "text/plain": [
              "[('1', '1', '4.0'), ('1', '3', '4.0'), ('1', '6', '4.0')]"
            ]
          },
          "metadata": {},
          "execution_count": 9
        }
      ]
    },
    {
      "cell_type": "code",
      "source": [
        "small_movies_file = os.path.join(datasets_path, 'ml-latest-small', 'movies.csv')\n",
        "\n",
        "small_movies_raw_data = sc.textFile(small_movies_file)\n",
        "small_movies_raw_data_header = small_movies_raw_data.take(1)[0]\n",
        "\n",
        "small_movies_data = small_movies_raw_data.filter(lambda line: line!=small_movies_raw_data_header)\\\n",
        "    .map(lambda line: line.split(\",\")).map(lambda tokens: (tokens[0],tokens[1])).cache()\n",
        "\n",
        "small_movies_data.take(3)"
      ],
      "metadata": {
        "colab": {
          "base_uri": "https://localhost:8080/"
        },
        "id": "PtQadcWYmvD2",
        "outputId": "282be855-4e29-4b5e-80b6-cc48caac12e0"
      },
      "execution_count": null,
      "outputs": [
        {
          "output_type": "execute_result",
          "data": {
            "text/plain": [
              "[('1', 'Toy Story (1995)'),\n",
              " ('2', 'Jumanji (1995)'),\n",
              " ('3', 'Grumpier Old Men (1995)')]"
            ]
          },
          "metadata": {},
          "execution_count": 10
        }
      ]
    },
    {
      "cell_type": "code",
      "source": [
        "training_RDD, validation_RDD, test_RDD = small_ratings_data.randomSplit([6., 2., 2.])\n",
        "validation_for_predict_RDD = validation_RDD.map(lambda x: (x[0], x[1]))\n",
        "test_for_predict_RDD = test_RDD.map(lambda x: (x[0], x[1]))"
      ],
      "metadata": {
        "id": "YiizQWEMmvca"
      },
      "execution_count": null,
      "outputs": []
    },
    {
      "cell_type": "code",
      "source": [
        "from pyspark.mllib.recommendation import ALS\n",
        "import math\n",
        "\n",
        "seed = 5\n",
        "\n",
        "# we will use the 3 value as the same as the value suggest in assignment 9 which is 5 10 20\n",
        "\n",
        "iterations_d = [5, 10 ,20] # iteration value for addtional inner loop\n",
        "\n",
        "\n",
        "regularization_parameter = 0.1\n",
        "ranks = [4, 8, 12]\n",
        "errors = [0, 0, 0, 0, 0, 0, 0 ,0 ,0]\n",
        "err = 0\n",
        "tolerance = 0.02\n",
        "\n",
        "\n",
        "\n",
        "min_error = float('inf')\n",
        "best_rank = -1\n",
        "best_iteration = -1\n",
        "best_iteration_value = -1\n",
        "for rank in ranks:\n",
        "    for it in iterations_d:\n",
        "      model = ALS.train(training_RDD, rank, seed=seed, iterations=it,\n",
        "                        lambda_=regularization_parameter)\n",
        "      predictions = model.predictAll(validation_for_predict_RDD).map(lambda r: ((r[0], r[1]), r[2]))\n",
        "      rates_and_preds = validation_RDD.map(lambda r: ((int(r[0]), int(r[1])), float(r[2]))).join(predictions)\n",
        "      error = math.sqrt(rates_and_preds.map(lambda r: (r[1][0] - r[1][1])**2).mean())\n",
        "      errors[err] = error\n",
        "      err += 1\n",
        "      print('For rank ' + str(rank) + ' with iteration value ' + str(it) +' the RMSE is ' + str(error) )\n",
        "      if error < min_error:\n",
        "          min_error = error\n",
        "          best_rank = rank\n",
        "          best_iteration_value = it\n",
        "\n",
        "print('The best model was trained with rank ' + str(best_rank) + ' with iteration value ' + str(best_iteration_value))"
      ],
      "metadata": {
        "colab": {
          "base_uri": "https://localhost:8080/"
        },
        "id": "gQHFgYzCmvr-",
        "outputId": "d869bc32-060a-4b0d-ad0e-37feff2a6604"
      },
      "execution_count": null,
      "outputs": [
        {
          "output_type": "stream",
          "name": "stdout",
          "text": [
            "For rank 4 with iteration value 5 the RMSE is 0.913948795187129\n",
            "For rank 4 with iteration value 10 the RMSE is 0.9033561706103221\n",
            "For rank 4 with iteration value 20 the RMSE is 0.9005718542171571\n",
            "For rank 8 with iteration value 5 the RMSE is 0.9194411578876807\n",
            "For rank 8 with iteration value 10 the RMSE is 0.91320817631583\n",
            "For rank 8 with iteration value 20 the RMSE is 0.9125772918021133\n",
            "For rank 12 with iteration value 5 the RMSE is 0.9242215673284463\n",
            "For rank 12 with iteration value 10 the RMSE is 0.915754199123964\n",
            "For rank 12 with iteration value 20 the RMSE is 0.9137108130434155\n",
            "The best model was trained with rank 4 with iteration value 20\n"
          ]
        }
      ]
    },
    {
      "cell_type": "code",
      "source": [
        "predictions.take(3)"
      ],
      "metadata": {
        "colab": {
          "base_uri": "https://localhost:8080/"
        },
        "id": "lo1fLCVcmv7g",
        "outputId": "19499b43-f9b7-424e-fe9d-7aa710cfa136"
      },
      "execution_count": null,
      "outputs": [
        {
          "output_type": "execute_result",
          "data": {
            "text/plain": [
              "[((74, 1084), 4.425124244058553),\n",
              " ((589, 1084), 4.582654735186594),\n",
              " ((597, 1084), 4.316829277634355)]"
            ]
          },
          "metadata": {},
          "execution_count": 13
        }
      ]
    },
    {
      "cell_type": "code",
      "source": [
        "rates_and_preds.take(3)"
      ],
      "metadata": {
        "colab": {
          "base_uri": "https://localhost:8080/"
        },
        "id": "k_LV8UEmmwMA",
        "outputId": "69a4677d-6042-4c71-97d0-ad18dcf2650e"
      },
      "execution_count": null,
      "outputs": [
        {
          "output_type": "execute_result",
          "data": {
            "text/plain": [
              "[((1, 101), (5.0, 4.124541239776132)),\n",
              " ((1, 157), (5.0, 3.2511329128974564)),\n",
              " ((1, 441), (4.0, 4.443397344769398))]"
            ]
          },
          "metadata": {},
          "execution_count": 14
        }
      ]
    },
    {
      "cell_type": "code",
      "source": [
        "model = ALS.train(training_RDD, best_rank, seed=seed, iterations=best_iteration_value,\n",
        "                      lambda_=regularization_parameter)\n",
        "predictions = model.predictAll(test_for_predict_RDD).map(lambda r: ((r[0], r[1]), r[2]))\n",
        "rates_and_preds = test_RDD.map(lambda r: ((int(r[0]), int(r[1])), float(r[2]))).join(predictions)\n",
        "error = math.sqrt(rates_and_preds.map(lambda r: (r[1][0] - r[1][1])**2).mean())\n",
        "\n",
        "print('For testing data the RMSE is ' + str(error))"
      ],
      "metadata": {
        "colab": {
          "base_uri": "https://localhost:8080/"
        },
        "id": "_kZ5npQ5mwjo",
        "outputId": "25071792-971f-4daa-b40c-4e5796e68114"
      },
      "execution_count": null,
      "outputs": [
        {
          "output_type": "stream",
          "name": "stdout",
          "text": [
            "For testing data the RMSE is 0.9046851120412228\n"
          ]
        }
      ]
    },
    {
      "cell_type": "code",
      "source": [
        "# Load the complete dataset file\n",
        "complete_ratings_file = os.path.join(datasets_path, 'ml-latest', 'ratings.csv')\n",
        "complete_ratings_raw_data = sc.textFile(complete_ratings_file)\n",
        "complete_ratings_raw_data_header = complete_ratings_raw_data.take(1)[0]\n",
        "\n",
        "# Parse\n",
        "complete_ratings_data = complete_ratings_raw_data.filter(lambda line: line!=complete_ratings_raw_data_header)\\\n",
        "    .map(lambda line: line.split(\",\")).map(lambda tokens: (int(tokens[0]),int(tokens[1]),float(tokens[2]))).cache()\n",
        "\n",
        "print(\"There are \" + str(complete_ratings_data.count()) + \" recommendations in the complete dataset\" )"
      ],
      "metadata": {
        "colab": {
          "base_uri": "https://localhost:8080/"
        },
        "id": "xSkLFSBUmwxW",
        "outputId": "912bd9b3-8969-4642-f04e-462deead543c"
      },
      "execution_count": null,
      "outputs": [
        {
          "output_type": "stream",
          "name": "stdout",
          "text": [
            "There are 27753444 recommendations in the complete dataset\n"
          ]
        }
      ]
    },
    {
      "cell_type": "code",
      "source": [
        "training_RDD, test_RDD = complete_ratings_data.randomSplit([7, 3], seed=0)\n",
        "\n",
        "complete_model = ALS.train(training_RDD, best_rank, seed=seed,\n",
        "                           iterations=best_iteration_value, lambda_=regularization_parameter)"
      ],
      "metadata": {
        "id": "iQChY0irmxBI"
      },
      "execution_count": null,
      "outputs": []
    },
    {
      "cell_type": "code",
      "source": [
        "test_for_predict_RDD = test_RDD.map(lambda x: (x[0], x[1]))\n",
        "\n",
        "predictions = complete_model.predictAll(test_for_predict_RDD).map(lambda r: ((r[0], r[1]), r[2]))\n",
        "rates_and_preds = test_RDD.map(lambda r: ((int(r[0]), int(r[1])), float(r[2]))).join(predictions)\n",
        "error = math.sqrt(rates_and_preds.map(lambda r: (r[1][0] - r[1][1])**2).mean())\n",
        "\n",
        "print('For testing data the RMSE is ' + str(error))"
      ],
      "metadata": {
        "colab": {
          "base_uri": "https://localhost:8080/"
        },
        "id": "dng-ITQfmxWi",
        "outputId": "9e97c7e3-6d10-4fb4-bba0-1f211c0ee1d6"
      },
      "execution_count": null,
      "outputs": [
        {
          "output_type": "stream",
          "name": "stdout",
          "text": [
            "For testing data the RMSE is 0.8320316099023749\n"
          ]
        }
      ]
    },
    {
      "cell_type": "code",
      "source": [
        "complete_movies_file = os.path.join(datasets_path, 'ml-latest', 'movies.csv')\n",
        "complete_movies_raw_data = sc.textFile(complete_movies_file)\n",
        "complete_movies_raw_data_header = complete_movies_raw_data.take(1)[0]\n",
        "\n",
        "# Parse\n",
        "complete_movies_data = complete_movies_raw_data.filter(lambda line: line!=complete_movies_raw_data_header)\\\n",
        "    .map(lambda line: line.split(\",\")).map(lambda tokens: (int(tokens[0]),tokens[1],tokens[2])).cache()\n",
        "\n",
        "complete_movies_titles = complete_movies_data.map(lambda x: (int(x[0]),x[1]))\n",
        "\n",
        "print(\"There are \" + str(complete_movies_titles.count()) + \" movies in the complete dataset\" )"
      ],
      "metadata": {
        "colab": {
          "base_uri": "https://localhost:8080/"
        },
        "id": "AAWIzSP6mxkt",
        "outputId": "894d6431-14ed-4b04-e404-03da21d1b091"
      },
      "execution_count": null,
      "outputs": [
        {
          "output_type": "stream",
          "name": "stdout",
          "text": [
            "There are 58098 movies in the complete dataset\n"
          ]
        }
      ]
    },
    {
      "cell_type": "code",
      "source": [
        "def get_counts_and_averages(ID_and_ratings_tuple):\n",
        "    nratings = len(ID_and_ratings_tuple[1])\n",
        "    return ID_and_ratings_tuple[0], (nratings, float(sum(x for x in ID_and_ratings_tuple[1]))/nratings)\n",
        "\n",
        "movie_ID_with_ratings_RDD = (complete_ratings_data.map(lambda x: (x[1], x[2])).groupByKey())\n",
        "movie_ID_with_avg_ratings_RDD = movie_ID_with_ratings_RDD.map(get_counts_and_averages)\n",
        "movie_rating_counts_RDD = movie_ID_with_avg_ratings_RDD.map(lambda x: (x[0], x[1][0]))\n",
        ""
      ],
      "metadata": {
        "id": "VGHllDZrmx5R"
      },
      "execution_count": null,
      "outputs": []
    },
    {
      "cell_type": "code",
      "source": [
        "new_user_ID = 0\n",
        "\n",
        "# The format of each line is (userID, movieID, rating)\n",
        "new_user_ratings = [\n",
        "     (0,260,9), # Star Wars (1977)\n",
        "     (0,1,8), # Toy Story (1995)\n",
        "     (0,16,7), # Casino (1995)\n",
        "     (0,25,8), # Leaving Las Vegas (1995)\n",
        "     (0,32,9), # Twelve Monkeys (a.k.a. 12 Monkeys) (1995)\n",
        "     (0,335,4), # Flintstones, The (1994)\n",
        "     (0,379,3), # Timecop (1994)\n",
        "     (0,296,7), # Pulp Fiction (1994)\n",
        "     (0,858,10) , # Godfather, The (1972)\n",
        "     (0,50,8) # Usual Suspects, The (1995)\n",
        "    ]\n",
        "new_user_ratings_RDD = sc.parallelize(new_user_ratings)\n",
        "print('New user ratings: ' + str(new_user_ratings_RDD.take(10)))"
      ],
      "metadata": {
        "colab": {
          "base_uri": "https://localhost:8080/"
        },
        "id": "rVi8CoUJmyHe",
        "outputId": "49f89f85-dfd6-4146-c215-6f953bec24f7"
      },
      "execution_count": null,
      "outputs": [
        {
          "output_type": "stream",
          "name": "stdout",
          "text": [
            "New user ratings: [(0, 260, 9), (0, 1, 8), (0, 16, 7), (0, 25, 8), (0, 32, 9), (0, 335, 4), (0, 379, 3), (0, 296, 7), (0, 858, 10), (0, 50, 8)]\n"
          ]
        }
      ]
    },
    {
      "cell_type": "code",
      "source": [
        "complete_data_with_new_ratings_RDD = complete_ratings_data.union(new_user_ratings_RDD)"
      ],
      "metadata": {
        "id": "9OW_DAsEmyWn"
      },
      "execution_count": null,
      "outputs": []
    },
    {
      "cell_type": "code",
      "source": [
        "from time import time\n",
        "\n",
        "t0 = time()\n",
        "new_ratings_model = ALS.train(complete_data_with_new_ratings_RDD, best_rank, seed=seed,\n",
        "                              iterations=best_iteration_value, lambda_=regularization_parameter)\n",
        "tt = time() - t0\n",
        "\n",
        "print(\"New model trained in \" + str(round(tt,3)) + \" seconds\")"
      ],
      "metadata": {
        "colab": {
          "base_uri": "https://localhost:8080/"
        },
        "id": "7GQnu8DAmyk0",
        "outputId": "b0e8ea56-7fb9-4da5-e744-901b05ecc1b9"
      },
      "execution_count": null,
      "outputs": [
        {
          "output_type": "stream",
          "name": "stdout",
          "text": [
            "New model trained in 321.944 seconds\n"
          ]
        }
      ]
    },
    {
      "cell_type": "code",
      "source": [
        "new_user_ratings_ids = map(lambda x: x[1], new_user_ratings) # get just movie IDs\n",
        "# keep just those not on the ID list (thanks Lei Li for spotting the error!)\n",
        "new_user_unrated_movies_RDD = (complete_movies_data.filter(lambda x: x[0] not in new_user_ratings_ids).map(lambda x: (new_user_ID, x[0])))\n",
        "\n",
        "# Use the input RDD, new_user_unrated_movies_RDD, with new_ratings_model.predictAll() to predict new ratings for the movies\n",
        "new_user_recommendations_RDD = new_ratings_model.predictAll(new_user_unrated_movies_RDD)"
      ],
      "metadata": {
        "id": "m5Y1EYAsmyzG"
      },
      "execution_count": null,
      "outputs": []
    },
    {
      "cell_type": "code",
      "source": [
        "# Transform new_user_recommendations_RDD into pairs of the form (Movie ID, Predicted Rating)\n",
        "new_user_recommendations_rating_RDD = new_user_recommendations_RDD.map(lambda x: (x.product, x.rating))\n",
        "new_user_recommendations_rating_title_and_count_RDD = \\\n",
        "    new_user_recommendations_rating_RDD.join(complete_movies_titles).join(movie_rating_counts_RDD)\n",
        "new_user_recommendations_rating_title_and_count_RDD.take(3)"
      ],
      "metadata": {
        "colab": {
          "base_uri": "https://localhost:8080/"
        },
        "id": "m1QHenDxmzKg",
        "outputId": "275db038-bdc4-4034-e6e9-b59610e05f78"
      },
      "execution_count": null,
      "outputs": [
        {
          "output_type": "execute_result",
          "data": {
            "text/plain": [
              "[(6216,\n",
              "  ((7.026445662645672, 'Nowhere in Africa (Nirgendwo in Afrika) (2001)'),\n",
              "   717)),\n",
              " (124320, ((7.492523897937501, 'Once a Thief (1965)'), 1)),\n",
              " (83916, ((6.498638531131836, 'Blues in the Night (1941)'), 9))]"
            ]
          },
          "metadata": {},
          "execution_count": 26
        }
      ]
    },
    {
      "cell_type": "code",
      "source": [
        "new_user_recommendations_rating_title_and_count_RDD = \\\n",
        "    new_user_recommendations_rating_title_and_count_RDD.map(lambda r: (r[1][0][1], r[1][0][0], r[1][1]))"
      ],
      "metadata": {
        "id": "pg-LNKsAmzax"
      },
      "execution_count": null,
      "outputs": []
    },
    {
      "cell_type": "code",
      "source": [
        "top_movies = new_user_recommendations_rating_title_and_count_RDD.filter(lambda r: r[2]>=25).takeOrdered(25, key=lambda x: -x[1])\n",
        "\n",
        "print ('TOP recommended movies (with more than 25 reviews):\\n%s' %\n",
        "        '\\n'.join(map(str, top_movies)))"
      ],
      "metadata": {
        "colab": {
          "base_uri": "https://localhost:8080/"
        },
        "id": "luzL6XYBmzqY",
        "outputId": "7e9d5901-df41-444d-849a-b8a55528bc34"
      },
      "execution_count": null,
      "outputs": [
        {
          "output_type": "stream",
          "name": "stdout",
          "text": [
            "TOP recommended movies (with more than 25 reviews):\n",
            "('Music for One Apartment and Six Drummers (2001)', 9.127790682513762, 31)\n",
            "('Rabbit of Seville (1950)', 8.981667585474511, 30)\n",
            "('\"Human Condition III', 8.924352265935553, 91)\n",
            "('Baseball (1994)', 8.825348145082458, 42)\n",
            "('Harakiri (Seppuku) (1962)', 8.82350612380764, 679)\n",
            "('Connections (1978)', 8.80328925260546, 49)\n",
            "('\"I', 8.761593869238741, 85)\n",
            "(\"Jim Henson's The Storyteller (1989)\", 8.737766561534556, 36)\n",
            "('Wow! A Talking Fish! (1983)', 8.733375962558078, 47)\n",
            "('\"Last Lions', 8.731667090276083, 38)\n",
            "('Duck Amuck (1953)', 8.720967892241077, 226)\n",
            "('Elway To Marino (2013)', 8.720128372049018, 25)\n",
            "('\"Lonely Wife', 8.71044688710834, 43)\n",
            "('Cosmos', 8.701890553829813, 157)\n",
            "('The Garden of Sinners - Chapter 5: Paradox Paradigm (2008)', 8.689368679793624, 27)\n",
            "('Rabbit Fire (1951)', 8.678015012489311, 46)\n",
            "('Dimensions of Dialogue (Moznosti dialogu) (1982)', 8.67314498984205, 65)\n",
            "('Crooks in Clover (a.k.a. Monsieur Gangster) (Les tontons flingueurs) (1963)', 8.666302841107914, 52)\n",
            "('\"In the blue sea', 8.661191712900077, 37)\n",
            "('\"Great War', 8.659008343795655, 31)\n",
            "('Seven Samurai (Shichinin no samurai) (1954)', 8.606794929069231, 14578)\n",
            "('\"Godfather', 8.604666177681054, 60904)\n",
            "('Ikiru (1952)', 8.601377373131328, 1551)\n",
            "('\"Century of the Self', 8.589141440685239, 213)\n",
            "('The War (2007)', 8.57146593019801, 53)\n"
          ]
        }
      ]
    },
    {
      "cell_type": "code",
      "source": [
        "my_movie = sc.parallelize([(0, 500)]) # Quiz Show (1994)\n",
        "individual_movie_rating_RDD = new_ratings_model.predictAll(new_user_unrated_movies_RDD)\n",
        "individual_movie_rating_RDD.take(1)"
      ],
      "metadata": {
        "colab": {
          "base_uri": "https://localhost:8080/"
        },
        "id": "vxyMNHlTmz4v",
        "outputId": "5479629a-b5ef-47bf-b72a-13bdb9e2558a"
      },
      "execution_count": null,
      "outputs": [
        {
          "output_type": "execute_result",
          "data": {
            "text/plain": [
              "[Rating(user=0, product=116688, rating=2.0178150675852966)]"
            ]
          },
          "metadata": {},
          "execution_count": 29
        }
      ]
    },
    {
      "cell_type": "code",
      "source": [
        "from pyspark.mllib.recommendation import MatrixFactorizationModel\n",
        "\n",
        "model_path = os.path.join('..', 'models', 'movie_lens_als')\n",
        "\n",
        "# Save and load model\n",
        "model.save(sc, model_path)\n",
        "same_model = MatrixFactorizationModel.load(sc, model_path)"
      ],
      "metadata": {
        "id": "fgWW8dzrm0Hq"
      },
      "execution_count": null,
      "outputs": []
    }
  ]
}