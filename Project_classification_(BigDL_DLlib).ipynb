{
  "nbformat": 4,
  "nbformat_minor": 0,
  "metadata": {
    "colab": {
      "provenance": [],
      "include_colab_link": true
    },
    "kernelspec": {
      "name": "python3",
      "display_name": "Python 3"
    },
    "language_info": {
      "name": "python"
    }
  },
  "cells": [
    {
      "cell_type": "markdown",
      "metadata": {
        "id": "view-in-github",
        "colab_type": "text"
      },
      "source": [
        "<a href=\"https://colab.research.google.com/github/poring3995/My_Project/blob/MY_Project/Project_classification_(BigDL_DLlib).ipynb\" target=\"_parent\"><img src=\"https://colab.research.google.com/assets/colab-badge.svg\" alt=\"Open In Colab\"/></a>"
      ]
    },
    {
      "cell_type": "code",
      "execution_count": null,
      "metadata": {
        "colab": {
          "base_uri": "https://localhost:8080/"
        },
        "id": "PN6i7lwckpnv",
        "outputId": "8c87671d-23a5-4e99-dafe-f18d19adc69e"
      },
      "outputs": [
        {
          "output_type": "stream",
          "name": "stdout",
          "text": [
            "Looking in indexes: https://pypi.org/simple, https://us-python.pkg.dev/colab-wheels/public/simple/\n",
            "Collecting bigdl-dllib-spark3\n",
            "  Downloading bigdl_dllib_spark3-2.3.0-py3-none-manylinux1_x86_64.whl (61.4 MB)\n",
            "\u001b[2K     \u001b[90m━━━━━━━━━━━━━━━━━━━━━━━━━━━━━━━━━━━━━━━━\u001b[0m \u001b[32m61.4/61.4 MB\u001b[0m \u001b[31m11.2 MB/s\u001b[0m eta \u001b[36m0:00:00\u001b[0m\n",
            "\u001b[?25hRequirement already satisfied: numpy>=1.19.5 in /usr/local/lib/python3.10/dist-packages (from bigdl-dllib-spark3) (1.22.4)\n",
            "Collecting pyspark==3.1.3 (from bigdl-dllib-spark3)\n",
            "  Downloading pyspark-3.1.3.tar.gz (214.0 MB)\n",
            "\u001b[2K     \u001b[90m━━━━━━━━━━━━━━━━━━━━━━━━━━━━━━━━━━━━━━━\u001b[0m \u001b[32m214.0/214.0 MB\u001b[0m \u001b[31m5.6 MB/s\u001b[0m eta \u001b[36m0:00:00\u001b[0m\n",
            "\u001b[?25h  Preparing metadata (setup.py) ... \u001b[?25l\u001b[?25hdone\n",
            "Collecting conda-pack==0.3.1 (from bigdl-dllib-spark3)\n",
            "  Downloading conda_pack-0.3.1-py2.py3-none-any.whl (27 kB)\n",
            "Requirement already satisfied: six>=1.10.0 in /usr/local/lib/python3.10/dist-packages (from bigdl-dllib-spark3) (1.16.0)\n",
            "Collecting bigdl-core==2.3.0 (from bigdl-dllib-spark3)\n",
            "  Downloading bigdl_core-2.3.0-py3-none-manylinux2010_x86_64.whl (51.7 MB)\n",
            "\u001b[2K     \u001b[90m━━━━━━━━━━━━━━━━━━━━━━━━━━━━━━━━━━━━━━━━\u001b[0m \u001b[32m51.7/51.7 MB\u001b[0m \u001b[31m17.8 MB/s\u001b[0m eta \u001b[36m0:00:00\u001b[0m\n",
            "\u001b[?25hRequirement already satisfied: setuptools in /usr/local/lib/python3.10/dist-packages (from conda-pack==0.3.1->bigdl-dllib-spark3) (67.7.2)\n",
            "Collecting py4j==0.10.9 (from pyspark==3.1.3->bigdl-dllib-spark3)\n",
            "  Downloading py4j-0.10.9-py2.py3-none-any.whl (198 kB)\n",
            "\u001b[2K     \u001b[90m━━━━━━━━━━━━━━━━━━━━━━━━━━━━━━━━━━━━━━\u001b[0m \u001b[32m198.6/198.6 kB\u001b[0m \u001b[31m22.4 MB/s\u001b[0m eta \u001b[36m0:00:00\u001b[0m\n",
            "\u001b[?25hBuilding wheels for collected packages: pyspark\n",
            "  Building wheel for pyspark (setup.py) ... \u001b[?25l\u001b[?25hdone\n",
            "  Created wheel for pyspark: filename=pyspark-3.1.3-py2.py3-none-any.whl size=214463469 sha256=bb20e6a308de0497aa5494cfb9568f349c0c7941f897913d26d1819b4460dbfb\n",
            "  Stored in directory: /root/.cache/pip/wheels/b0/d0/fd/b0e0165f0fbd79838d2f50c544382e7a5346274f0af07ffada\n",
            "Successfully built pyspark\n",
            "Installing collected packages: py4j, bigdl-core, pyspark, conda-pack, bigdl-dllib-spark3\n",
            "  Attempting uninstall: py4j\n",
            "    Found existing installation: py4j 0.10.9.7\n",
            "    Uninstalling py4j-0.10.9.7:\n",
            "      Successfully uninstalled py4j-0.10.9.7\n",
            "Successfully installed bigdl-core-2.3.0 bigdl-dllib-spark3-2.3.0 conda-pack-0.3.1 py4j-0.10.9 pyspark-3.1.3\n"
          ]
        }
      ],
      "source": [
        "!pip install bigdl-dllib-spark3"
      ]
    },
    {
      "cell_type": "code",
      "source": [
        "from pyspark.sql import SparkSession\n",
        "from pyspark.sql.types import DoubleType\n",
        "from pyspark.sql.functions import lit\n",
        "from pyspark.ml.feature import VectorAssembler\n",
        "from pyspark.ml.evaluation import MulticlassClassificationEvaluator\n",
        "from bigdl.dllib.nncontext import *\n",
        "from bigdl.dllib.keras.layers import *\n",
        "from bigdl.dllib.keras.models import *\n",
        "import bigdl.dllib.keras.Sequential\n",
        "from bigdl.dllib.nnframes import *\n",
        "from bigdl.dllib.nn.criterion import *"
      ],
      "metadata": {
        "id": "ooCaD-mLksdx"
      },
      "execution_count": null,
      "outputs": []
    },
    {
      "cell_type": "code",
      "source": [
        "sc = init_nncontext(cluster_mode=\"local\")\n",
        "spark = SparkSession(sc)"
      ],
      "metadata": {
        "colab": {
          "base_uri": "https://localhost:8080/"
        },
        "id": "xtohUuRnkxGj",
        "outputId": "fae6502e-da10-4232-f9e6-f941188f33f8"
      },
      "execution_count": null,
      "outputs": [
        {
          "output_type": "stream",
          "name": "stdout",
          "text": [
            "Current pyspark location is : /usr/local/lib/python3.10/dist-packages/pyspark/__init__.py\n",
            "Start to getOrCreate SparkContext\n",
            "pyspark_submit_args is:  --driver-class-path /usr/local/lib/python3.10/dist-packages/bigdl/share/dllib/lib/bigdl-dllib-spark_3.1.3-2.3.0-jar-with-dependencies.jar:/usr/local/lib/python3.10/dist-packages/bigdl/share/core/lib/all-2.3.0.jar pyspark-shell \n",
            "Successfully got a SparkContext\n"
          ]
        }
      ]
    },
    {
      "cell_type": "code",
      "source": [
        "df = spark.read.csv('/content/star_classification.csv', header='true', inferSchema='true')\n",
        "df.show()"
      ],
      "metadata": {
        "id": "0j_tfNmwk65j",
        "colab": {
          "base_uri": "https://localhost:8080/"
        },
        "outputId": "3c6d3c69-ac10-4ca1-a308-b0e36f4d54c6"
      },
      "execution_count": null,
      "outputs": [
        {
          "output_type": "stream",
          "name": "stdout",
          "text": [
            "+--------------------+----------------+------------------+--------+--------+--------+--------+--------+------+--------+-------+--------+--------------------+------+------------+-----+-----+--------+\n",
            "|              obj_ID|           alpha|             delta|       u|       g|       r|       i|       z|run_ID|rerun_ID|cam_col|field_ID|         spec_obj_ID| class|    redshift|plate|  MJD|fiber_ID|\n",
            "+--------------------+----------------+------------------+--------+--------+--------+--------+--------+------+--------+-------+--------+--------------------+------+------------+-----+-----+--------+\n",
            "|1.237660961327743...|  135.6891066036|  32.4946318397087|23.87882| 22.2753|20.39501|19.16573|18.79371|  3606|     301|      2|      79|6.543777369295181...|GALAXY|   0.6347936| 5812|56354|     171|\n",
            "|1.237664879951151...|144.826100550256|  31.2741848944939|24.77759|22.83188|22.58444|21.16812|21.61427|  4518|     301|      5|     119|1.176014203670733...|GALAXY|    0.779136|10445|58158|     427|\n",
            "|1.237660961330430...|142.188789562506|  35.5824441819976|25.26307|22.66389|20.60976|19.34857|18.94827|  3606|     301|      2|     120|5.152200256025548...|GALAXY|   0.6441945| 4576|55592|     299|\n",
            "|1.237663478724297...|338.741037753146|-0.402827574587482|22.13682|23.77656|21.61162|20.50454| 19.2501|  4192|     301|      3|     214|1.030107141295442...|GALAXY|   0.9323456| 9149|58039|     775|\n",
            "|1.237680272041378...|345.282593210935|  21.1838656010284|19.43718|17.58028|16.49747|15.97711|15.54461|  8102|     301|      3|     137|6.891864880783317E18|GALAXY|   0.1161227| 6121|56187|     842|\n",
            "|1.237680272039609...|340.995120509191|  20.5894762801019|23.48827|23.33776|21.32195|20.25615|19.54544|  8102|     301|      3|     110|5.658976714552006...|   QSO|    1.424659| 5026|55855|     741|\n",
            "|1.237678858481565...|23.2349264301638|  11.4181876197835|21.46973|21.17624|20.92829|20.60826|20.42573|  7773|     301|      2|     462|  1.2462617271914E19|   QSO|   0.5864546|11069|58456|     113|\n",
            "|1.237678858473963...|5.43317603738404|  12.0651859913473|22.24979|22.02172|20.34126|19.48794|18.84999|  7773|     301|      2|     346|6.961443351364393E18|GALAXY|    0.477009| 6183|56210|      15|\n",
            "|1.237661435386659...|200.290475389797|   47.199402322911|24.40286|22.35669|20.61032| 19.4649|18.95852|  3716|     301|      5|     108|7.459284627188111...|GALAXY|    0.660012| 6625|56386|     719|\n",
            "|1.237670961088168...|39.1496905996484|  28.1028416109607|21.74669|20.03493|19.17553|18.81823|18.65422|  5934|     301|      4|     122|2.751763212482406...|  STAR|-7.895373E-6| 2444|54082|     232|\n",
            "|1.237680272034169...|328.092076173419|  18.2203104791579|25.77163|22.52042|20.63884|19.78071|19.05765|  8102|     301|      3|      27|5.652161941432719...|GALAXY|   0.4595958| 5020|55852|     525|\n",
            "|1.237662341088150...|243.986637469699|  25.7382804319961|23.76761|23.79969|20.98318|19.80745|19.45579|  3927|     301|      4|     112|5.322363975769544...|GALAXY|   0.5914091| 4727|55693|     855|\n",
            "|1.237680507721220...|345.801874402853|  32.6728678500872|23.17274|20.14496|19.41948|19.22034|18.89359|  8157|     301|      2|      38|7.323010883747338...|  STAR| 7.182029E-5| 6504|56540|     574|\n",
            "|1.237678858459349...|331.502029984917|  10.0358020468494| 20.8294|18.75091|17.51118|17.01631|16.62772|  7773|     301|      2|     123|5.702738100025055...|GALAXY|   0.1521936| 5065|55739|     200|\n",
            "|1.237663478726984...|344.984770271278|-0.352615781151814|23.20911|22.79291|22.08589|21.86282| 21.8512|  4192|     301|      3|     255|1.037538657325261...|GALAXY|   0.8181597| 9215|57682|     796|\n",
            "|1.237662341088543...|244.824523050208|  25.1545639915034| 24.8868|22.13311|20.44728|19.49171| 18.9747|  3927|     301|      4|     118|5.322135277350967...|GALAXY|   0.4849288| 4727|55693|      23|\n",
            "|1.237678598087508...|353.201522444633|  3.08079593630972| 24.5489|21.44267|20.95315| 20.7936|20.48442|  7712|     301|      5|     284|4.822278327657322...|  STAR| -4.28576E-4| 4283|55864|     178|\n",
            "|1.237678598091112...|  1.494388639357|  3.29174632998873|20.38562|20.40514|20.29996|20.05918|19.89044|  7712|     301|      5|     339| 9.84382410307275E18|   QSO|    2.031528| 8743|57663|     295|\n",
            "|1.237678598096748...|14.3831352206597|  3.21432619593864|21.82154| 20.5573|19.94918|19.76057|19.55514|  7712|     301|      5|     425|9.855072926793226E18|  STAR|-4.402762E-4| 8753|57373|     258|\n",
            "|1.237651539783057...|167.131668785257|  67.3399356293198|20.48292|18.67807| 17.6168|17.11936|16.73351|  1412|     301|      5|     124|5.518594868731187...|GALAXY|   0.1115879|  490|51929|     613|\n",
            "+--------------------+----------------+------------------+--------+--------+--------+--------+--------+------+--------+-------+--------+--------------------+------+------------+-----+-----+--------+\n",
            "only showing top 20 rows\n",
            "\n"
          ]
        }
      ]
    },
    {
      "cell_type": "markdown",
      "source": [
        "# **Datapreprocessing :** Since the data in the class column is in the type string,so we can't applies these data into training (in the case that we didn't change it the predictio value from the training set will be only NULL)\n",
        "\n",
        "# So, we convert the the data in string type into the numeric by setting the condition for each categories into the number (don't worry about the string type first becuase it will be get changetype in the training data setting)\n",
        "\n",
        "# **GALAXY into \"1\"**\n",
        "# **SQO into \"2\"**\n",
        "# **STAR into \"3\"**"
      ],
      "metadata": {
        "id": "GAkaKEd7BxCs"
      }
    },
    {
      "cell_type": "code",
      "source": [
        "from pyspark.sql.functions import when\n",
        "df_transform = df.withColumn(\"class\", when(df[\"class\"] == \"GALAXY\",\"1\") \\\n",
        "      .when(df[\"class\"] == \"QSO\",\"2\") \\\n",
        "      .otherwise(\"3\"))\n",
        "\n",
        "df_transform.show()\n"
      ],
      "metadata": {
        "id": "vwa_GQUUQ4By",
        "colab": {
          "base_uri": "https://localhost:8080/"
        },
        "outputId": "001c7267-ed20-4a01-cbea-b49d00112e4f"
      },
      "execution_count": null,
      "outputs": [
        {
          "output_type": "stream",
          "name": "stdout",
          "text": [
            "+--------------------+----------------+------------------+--------+--------+--------+--------+--------+------+--------+-------+--------+--------------------+-----+------------+-----+-----+--------+\n",
            "|              obj_ID|           alpha|             delta|       u|       g|       r|       i|       z|run_ID|rerun_ID|cam_col|field_ID|         spec_obj_ID|class|    redshift|plate|  MJD|fiber_ID|\n",
            "+--------------------+----------------+------------------+--------+--------+--------+--------+--------+------+--------+-------+--------+--------------------+-----+------------+-----+-----+--------+\n",
            "|1.237660961327743...|  135.6891066036|  32.4946318397087|23.87882| 22.2753|20.39501|19.16573|18.79371|  3606|     301|      2|      79|6.543777369295181...|    1|   0.6347936| 5812|56354|     171|\n",
            "|1.237664879951151...|144.826100550256|  31.2741848944939|24.77759|22.83188|22.58444|21.16812|21.61427|  4518|     301|      5|     119|1.176014203670733...|    1|    0.779136|10445|58158|     427|\n",
            "|1.237660961330430...|142.188789562506|  35.5824441819976|25.26307|22.66389|20.60976|19.34857|18.94827|  3606|     301|      2|     120|5.152200256025548...|    1|   0.6441945| 4576|55592|     299|\n",
            "|1.237663478724297...|338.741037753146|-0.402827574587482|22.13682|23.77656|21.61162|20.50454| 19.2501|  4192|     301|      3|     214|1.030107141295442...|    1|   0.9323456| 9149|58039|     775|\n",
            "|1.237680272041378...|345.282593210935|  21.1838656010284|19.43718|17.58028|16.49747|15.97711|15.54461|  8102|     301|      3|     137|6.891864880783317E18|    1|   0.1161227| 6121|56187|     842|\n",
            "|1.237680272039609...|340.995120509191|  20.5894762801019|23.48827|23.33776|21.32195|20.25615|19.54544|  8102|     301|      3|     110|5.658976714552006...|    2|    1.424659| 5026|55855|     741|\n",
            "|1.237678858481565...|23.2349264301638|  11.4181876197835|21.46973|21.17624|20.92829|20.60826|20.42573|  7773|     301|      2|     462|  1.2462617271914E19|    2|   0.5864546|11069|58456|     113|\n",
            "|1.237678858473963...|5.43317603738404|  12.0651859913473|22.24979|22.02172|20.34126|19.48794|18.84999|  7773|     301|      2|     346|6.961443351364393E18|    1|    0.477009| 6183|56210|      15|\n",
            "|1.237661435386659...|200.290475389797|   47.199402322911|24.40286|22.35669|20.61032| 19.4649|18.95852|  3716|     301|      5|     108|7.459284627188111...|    1|    0.660012| 6625|56386|     719|\n",
            "|1.237670961088168...|39.1496905996484|  28.1028416109607|21.74669|20.03493|19.17553|18.81823|18.65422|  5934|     301|      4|     122|2.751763212482406...|    3|-7.895373E-6| 2444|54082|     232|\n",
            "|1.237680272034169...|328.092076173419|  18.2203104791579|25.77163|22.52042|20.63884|19.78071|19.05765|  8102|     301|      3|      27|5.652161941432719...|    1|   0.4595958| 5020|55852|     525|\n",
            "|1.237662341088150...|243.986637469699|  25.7382804319961|23.76761|23.79969|20.98318|19.80745|19.45579|  3927|     301|      4|     112|5.322363975769544...|    1|   0.5914091| 4727|55693|     855|\n",
            "|1.237680507721220...|345.801874402853|  32.6728678500872|23.17274|20.14496|19.41948|19.22034|18.89359|  8157|     301|      2|      38|7.323010883747338...|    3| 7.182029E-5| 6504|56540|     574|\n",
            "|1.237678858459349...|331.502029984917|  10.0358020468494| 20.8294|18.75091|17.51118|17.01631|16.62772|  7773|     301|      2|     123|5.702738100025055...|    1|   0.1521936| 5065|55739|     200|\n",
            "|1.237663478726984...|344.984770271278|-0.352615781151814|23.20911|22.79291|22.08589|21.86282| 21.8512|  4192|     301|      3|     255|1.037538657325261...|    1|   0.8181597| 9215|57682|     796|\n",
            "|1.237662341088543...|244.824523050208|  25.1545639915034| 24.8868|22.13311|20.44728|19.49171| 18.9747|  3927|     301|      4|     118|5.322135277350967...|    1|   0.4849288| 4727|55693|      23|\n",
            "|1.237678598087508...|353.201522444633|  3.08079593630972| 24.5489|21.44267|20.95315| 20.7936|20.48442|  7712|     301|      5|     284|4.822278327657322...|    3| -4.28576E-4| 4283|55864|     178|\n",
            "|1.237678598091112...|  1.494388639357|  3.29174632998873|20.38562|20.40514|20.29996|20.05918|19.89044|  7712|     301|      5|     339| 9.84382410307275E18|    2|    2.031528| 8743|57663|     295|\n",
            "|1.237678598096748...|14.3831352206597|  3.21432619593864|21.82154| 20.5573|19.94918|19.76057|19.55514|  7712|     301|      5|     425|9.855072926793226E18|    3|-4.402762E-4| 8753|57373|     258|\n",
            "|1.237651539783057...|167.131668785257|  67.3399356293198|20.48292|18.67807| 17.6168|17.11936|16.73351|  1412|     301|      5|     124|5.518594868731187...|    1|   0.1115879|  490|51929|     613|\n",
            "+--------------------+----------------+------------------+--------+--------+--------+--------+--------+------+--------+-------+--------+--------------------+-----+------------+-----+-----+--------+\n",
            "only showing top 20 rows\n",
            "\n"
          ]
        }
      ]
    },
    {
      "cell_type": "code",
      "source": [
        "df = df_transform"
      ],
      "metadata": {
        "id": "yR-Gg4J1sjd5"
      },
      "execution_count": null,
      "outputs": []
    },
    {
      "cell_type": "markdown",
      "source": [
        "# Setting feature of by using vecAssembler (the input column is same as we use in the precious algorithm)"
      ],
      "metadata": {
        "id": "o291juaiCvfb"
      }
    },
    {
      "cell_type": "code",
      "source": [
        "vecAssembler = VectorAssembler(outputCol=\"features\")\n",
        "vecAssembler.setInputCols([\"alpha\",\"delta\",\"u\",\"g\",\"r\",\"i\",\"z\",\"redshift\"])\n",
        "train_df = vecAssembler.transform(df)\n",
        "changedTypedf = train_df.withColumn(\"label\", train_df[\"class\"].cast(DoubleType()))\\\n",
        "    .select(\"features\", \"label\")(trainingDF, validationDF) = changedTypedf.randomSplit([0.7, 0.3])"
      ],
      "metadata": {
        "id": "LhJ-os-HkxDy"
      },
      "execution_count": null,
      "outputs": []
    },
    {
      "cell_type": "code",
      "source": [
        "trainingDF.show()"
      ],
      "metadata": {
        "colab": {
          "base_uri": "https://localhost:8080/"
        },
        "id": "SkdMtChNkwU3",
        "outputId": "06bdfd08-2edf-4f12-9425-1955d0923186"
      },
      "execution_count": null,
      "outputs": [
        {
          "output_type": "stream",
          "name": "stdout",
          "text": [
            "+--------------------+-----+\n",
            "|            features|label|\n",
            "+--------------------+-----+\n",
            "|[0.05101121242955...|  2.0|\n",
            "|[0.05249126170593...|  1.0|\n",
            "|[0.07104565882764...|  1.0|\n",
            "|[0.07573854975100...|  3.0|\n",
            "|[0.07960455239971...|  1.0|\n",
            "|[0.08104328851311...|  1.0|\n",
            "|[0.08494855971241...|  2.0|\n",
            "|[0.08524942209373...|  2.0|\n",
            "|[0.09206793706016...|  2.0|\n",
            "|[0.10189312998176...|  2.0|\n",
            "|[0.10724335454108...|  3.0|\n",
            "|[0.10899016498331...|  2.0|\n",
            "|[0.11599688273469...|  2.0|\n",
            "|[0.12635265002273...|  1.0|\n",
            "|[0.14102713378031...|  3.0|\n",
            "|[0.14673517170572...|  2.0|\n",
            "|[0.15236163796890...|  3.0|\n",
            "|[0.16142408327709...|  3.0|\n",
            "|[0.18224373885289...|  1.0|\n",
            "|[0.20530953273652...|  3.0|\n",
            "+--------------------+-----+\n",
            "only showing top 20 rows\n",
            "\n"
          ]
        }
      ]
    },
    {
      "cell_type": "markdown",
      "source": [
        "# Design the model"
      ],
      "metadata": {
        "id": "s1ZPTblFC_fp"
      }
    },
    {
      "cell_type": "code",
      "source": [
        "x1 = Input(shape=(8,))\n",
        "dense1 = Dense(12, activation='relu')(x1)\n",
        "dense2 = Dense(6, activation='relu')(dense1)\n",
        "dense3 = Dense(3)(dense2)\n",
        "model = Model(x1, dense3)"
      ],
      "metadata": {
        "colab": {
          "base_uri": "https://localhost:8080/"
        },
        "id": "EAs8wtrrkwTQ",
        "outputId": "6004bb35-e63c-471d-ce60-7485a11d2d21"
      },
      "execution_count": null,
      "outputs": [
        {
          "output_type": "stream",
          "name": "stdout",
          "text": [
            "creating: createZooKerasInput\n",
            "creating: createZooKerasDense\n",
            "creating: createZooKerasDense\n",
            "creating: createZooKerasDense\n",
            "creating: createZooKerasModel\n"
          ]
        }
      ]
    },
    {
      "cell_type": "markdown",
      "source": [
        "# for tuning parameter, I do a some experiment to find the best parameter that can give the good score of accuracy also not takes too long to get the result\n",
        "\n",
        "# here is my record :\n",
        "\n",
        "batch size 100 epoch 20 acc 0.949\n",
        "\n",
        "batch size 100 epoch 50 acc 0.9401\n",
        "\n",
        "batch size 100 epoch 100 acc 09556 (it takes too long to get result)\n",
        "\n",
        "batch size 200 epoch 50 acc 0.9481\n",
        "\n",
        "batch size 200 epoch 100 acc 0.9496\n",
        "\n",
        "batch size 200 epoch 150 acc 0.955584\n",
        "\n",
        "# as from my record the optimal parameter would be batch size 200 with 150 epoch for trainning since it still give high accuracy with slighty less processing time"
      ],
      "metadata": {
        "id": "Jc0QnLyIEiGa"
      }
    },
    {
      "cell_type": "code",
      "source": [
        "classifier = NNClassifier(model, CrossEntropyCriterion(), [8]) \\\n",
        "    .setOptimMethod(Adam()) \\\n",
        "    .setBatchSize(200) \\\n",
        "    .setMaxEpoch(150)"
      ],
      "metadata": {
        "colab": {
          "base_uri": "https://localhost:8080/"
        },
        "id": "N69T4Lv_kwQJ",
        "outputId": "07c525f2-cb42-4c87-96ca-134d9bdcf486"
      },
      "execution_count": null,
      "outputs": [
        {
          "output_type": "stream",
          "name": "stdout",
          "text": [
            "creating: createCrossEntropyCriterion\n",
            "creating: createScalarToTensor\n",
            "creating: createSeqToTensor\n",
            "creating: createFeatureLabelPreprocessing\n",
            "creating: createNNClassifier\n",
            "creating: createAdam\n"
          ]
        }
      ]
    },
    {
      "cell_type": "code",
      "source": [
        "nnModel = classifier.fit(trainingDF)"
      ],
      "metadata": {
        "id": "Dwc8GyPBkwGo",
        "colab": {
          "base_uri": "https://localhost:8080/"
        },
        "outputId": "dc77a391-d6a0-4042-c2dd-36fb5c59b26b"
      },
      "execution_count": null,
      "outputs": [
        {
          "output_type": "stream",
          "name": "stdout",
          "text": [
            "creating: createToTuple\n",
            "creating: createChainedPreprocessing\n"
          ]
        }
      ]
    },
    {
      "cell_type": "markdown",
      "source": [
        "# Prediction result"
      ],
      "metadata": {
        "id": "jVVHwotsEblb"
      }
    },
    {
      "cell_type": "code",
      "source": [
        "predictionDF = nnModel.transform(validationDF).cache()\n",
        "predictionDF.sample(False, 0.1).show()\n",
        "\n",
        "evaluator = MulticlassClassificationEvaluator(\n",
        "    labelCol=\"label\", predictionCol=\"prediction\", metricName=\"accuracy\")\n",
        "accuracy = evaluator.evaluate(predictionDF)\n",
        "\n",
        "print(\"Accuracy = %g \" % (accuracy))"
      ],
      "metadata": {
        "id": "09miN-FRlb5L",
        "colab": {
          "base_uri": "https://localhost:8080/"
        },
        "outputId": "9b26184d-b15c-49d6-d651-7cc8acbe5b1c"
      },
      "execution_count": null,
      "outputs": [
        {
          "output_type": "stream",
          "name": "stdout",
          "text": [
            "+--------------------+-----+----------+\n",
            "|            features|label|prediction|\n",
            "+--------------------+-----+----------+\n",
            "|[0.05358176835898...|  2.0|       2.0|\n",
            "|[0.09356911689565...|  1.0|       1.0|\n",
            "|[0.54324894205989...|  3.0|       3.0|\n",
            "|[0.57956834695488...|  1.0|       1.0|\n",
            "|[0.67842711058780...|  1.0|       1.0|\n",
            "|[0.79527841251427...|  1.0|       1.0|\n",
            "|[1.21321162204734...|  1.0|       1.0|\n",
            "|[1.23696751486091...|  1.0|       1.0|\n",
            "|[1.41793979925058...|  1.0|       1.0|\n",
            "|[1.54551627407905...|  1.0|       1.0|\n",
            "|[1.58893035584146...|  1.0|       1.0|\n",
            "|[1.93660317371092...|  1.0|       1.0|\n",
            "|[2.14644524048299...|  1.0|       1.0|\n",
            "|[2.21779531276553...|  3.0|       3.0|\n",
            "|[2.72570670343663...|  2.0|       2.0|\n",
            "|[2.94045476914954...|  2.0|       2.0|\n",
            "|[3.23072191407536...|  1.0|       1.0|\n",
            "|[3.44613071657875...|  1.0|       1.0|\n",
            "|[4.47006550932283...|  1.0|       1.0|\n",
            "|[4.58886003315289...|  1.0|       2.0|\n",
            "+--------------------+-----+----------+\n",
            "only showing top 20 rows\n",
            "\n",
            "Accuracy = 0.955584 \n"
          ]
        }
      ]
    }
  ]
}